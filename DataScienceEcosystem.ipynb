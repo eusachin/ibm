{
 "cells": [
  {
   "cell_type": "markdown",
   "id": "86caa74d",
   "metadata": {},
   "source": [
    "# Data Science Tools and Ecosystem"
   ]
  },
  {
   "cell_type": "markdown",
   "id": "59adae80",
   "metadata": {},
   "source": [
    "In this notebook, Data Science Tools and Ecosystem are summarized."
   ]
  },
  {
   "cell_type": "markdown",
   "id": "6a4d10bd",
   "metadata": {},
   "source": [
    "Some of the popular languages that Data Scientists use are:\n",
    "    1) Python\n",
    "    2) R\n",
    "    3) Java \n",
    "    4) SQL\n",
    "    5) C++"
   ]
  },
  {
   "cell_type": "markdown",
   "id": "0b151f19",
   "metadata": {},
   "source": [
    "Some of the commonly used libraries used by Data Scientists include:\n",
    "1) NumPy\n",
    "2) Matplotlib\n",
    "3) Scikit-learn\n",
    "4) TensorFlow\n",
    "5) Keras\n",
    "6) PyTorch\n",
    "7) Seaborn\n",
    "8) SciPy\n",
    "9) Statsmodels"
   ]
  },
  {
   "cell_type": "markdown",
   "id": "8ec92f78",
   "metadata": {},
   "source": [
    "|Data Science Tools|\n",
    "|----|\n",
    "|SAS|\n",
    "|Apache Hadoop|\n",
    "|TensorFlow|"
   ]
  },
  {
   "cell_type": "markdown",
   "id": "5cadbe9d",
   "metadata": {},
   "source": [
    "### Below are a few examples of evaluating arithmetic expressions in Python."
   ]
  },
  {
   "cell_type": "code",
   "execution_count": 1,
   "id": "1b346f1f",
   "metadata": {},
   "outputs": [
    {
     "data": {
      "text/plain": [
       "17"
      ]
     },
     "execution_count": 1,
     "metadata": {},
     "output_type": "execute_result"
    }
   ],
   "source": [
    "#his a simple arithmetic expression to mutiply then add integers\n",
    "(3*4)+5"
   ]
  },
  {
   "cell_type": "code",
   "execution_count": 2,
   "id": "cb74059d",
   "metadata": {},
   "outputs": [
    {
     "data": {
      "text/plain": [
       "3.3333333333333335"
      ]
     },
     "execution_count": 2,
     "metadata": {},
     "output_type": "execute_result"
    }
   ],
   "source": [
    "#This will convert 200 minutes to hours by diving by 60\n",
    "200/60\n"
   ]
  },
  {
   "cell_type": "markdown",
   "id": "0eecc67b",
   "metadata": {},
   "source": [
    "__Objectives__\n",
    "* Summarize the Data Science Tools and Ecosystem.\n",
    "* Provide a list of popular languages used by Data Scientists.\n",
    "* Identify commonly used libraries in Data Science.\n",
    "* Mention examples of evaluating arithmetic expressions in Python."
   ]
  },
  {
   "cell_type": "markdown",
   "id": "5d7fc9b3",
   "metadata": {},
   "source": [
    "## Author\n",
    "\n",
    "Euston Chinhara"
   ]
  },
  {
   "cell_type": "code",
   "execution_count": null,
   "id": "f446dff5",
   "metadata": {},
   "outputs": [],
   "source": []
  }
 ],
 "metadata": {
  "kernelspec": {
   "display_name": "Python 3 (ipykernel)",
   "language": "python",
   "name": "python3"
  },
  "language_info": {
   "codemirror_mode": {
    "name": "ipython",
    "version": 3
   },
   "file_extension": ".py",
   "mimetype": "text/x-python",
   "name": "python",
   "nbconvert_exporter": "python",
   "pygments_lexer": "ipython3",
   "version": "3.11.4"
  }
 },
 "nbformat": 4,
 "nbformat_minor": 5
}
